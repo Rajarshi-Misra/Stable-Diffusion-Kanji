{
  "cells": [
    {
      "cell_type": "markdown",
      "metadata": {
        "id": "view-in-github",
        "colab_type": "text"
      },
      "source": [
        "<a href=\"https://colab.research.google.com/github/Rajarshi-Misra/Stable-Diffusion-Kanji/blob/main/Stable_Diffusion_Fine_tuning.ipynb\" target=\"_parent\"><img src=\"https://colab.research.google.com/assets/colab-badge.svg\" alt=\"Open In Colab\"/></a>"
      ]
    },
    {
      "cell_type": "markdown",
      "metadata": {
        "id": "PUCrNUNpL7qk"
      },
      "source": [
        "Install the necessary packages"
      ]
    },
    {
      "cell_type": "code",
      "execution_count": null,
      "metadata": {
        "id": "TGs_w8_OTmBS"
      },
      "outputs": [],
      "source": [
        "!pip install keras-cv==0.6.0 -q\n",
        "!pip install -U tensorflow -q\n",
        "!pip install keras-core -q"
      ]
    },
    {
      "cell_type": "markdown",
      "metadata": {
        "id": "tZJ6r9s2MZ4-"
      },
      "source": [
        "Imports"
      ]
    },
    {
      "cell_type": "code",
      "execution_count": null,
      "metadata": {
        "id": "fQMCGgv3Mdn_",
        "colab": {
          "base_uri": "https://localhost:8080/"
        },
        "outputId": "ef1f36c2-d5b9-4aa0-f467-953226cb03d2"
      },
      "outputs": [
        {
          "output_type": "stream",
          "name": "stdout",
          "text": [
            "Using TensorFlow backend\n"
          ]
        }
      ],
      "source": [
        "#We'll import the necessary modules\n",
        "from textwrap import wrap\n",
        "import os\n",
        "\n",
        "import keras_cv\n",
        "import matplotlib.pyplot as plt\n",
        "import numpy as np\n",
        "import pandas as pd\n",
        "import tensorflow as tf\n",
        "import tensorflow.experimental.numpy as tnp\n",
        "from keras_cv.models.stable_diffusion.clip_tokenizer import SimpleTokenizer\n",
        "from keras_cv.models.stable_diffusion.diffusion_model import DiffusionModel\n",
        "from keras_cv.models.stable_diffusion.image_encoder import ImageEncoder\n",
        "from keras_cv.models.stable_diffusion.noise_scheduler import NoiseScheduler\n",
        "from keras_cv.models.stable_diffusion.text_encoder import TextEncoder\n",
        "from tensorflow import keras"
      ]
    },
    {
      "cell_type": "code",
      "source": [
        "import pandas as pd"
      ],
      "metadata": {
        "id": "gsL3oZhF8-xV"
      },
      "execution_count": null,
      "outputs": []
    },
    {
      "cell_type": "markdown",
      "metadata": {
        "id": "A_NYkPgpM4Jl"
      },
      "source": [
        "Data Loading"
      ]
    },
    {
      "cell_type": "code",
      "execution_count": null,
      "metadata": {
        "id": "CroTFJzhtGKG"
      },
      "outputs": [],
      "source": [
        "#We'll load the data here\n",
        "#1. Create a dataframe\n",
        "df = pd.DataFrame(columns=['file_name','text'])\n",
        "dir = \"/content/drive/MyDrive/images2\"\n",
        "for file in os.listdir(dir):\n",
        "  path = os.path.join(dir, file)\n",
        "  df = df.append({'file_name':path,'text':file[:-4]},ignore_index=True)#The files were saved with meanings as theirs names"
      ]
    },
    {
      "cell_type": "code",
      "execution_count": null,
      "metadata": {
        "id": "ObeepvvQPGX9"
      },
      "outputs": [],
      "source": [
        "df = df[:50]"
      ]
    },
    {
      "cell_type": "code",
      "source": [
        "df"
      ],
      "metadata": {
        "id": "0bk2gz3tcZ7S"
      },
      "execution_count": null,
      "outputs": []
    },
    {
      "cell_type": "code",
      "execution_count": null,
      "metadata": {
        "id": "oKF0J8IMQXXf"
      },
      "outputs": [],
      "source": [
        "#Tokenizer\n",
        "PADDING_TOKEN = 49407\n",
        "MAX_PROMPT_LENGTH = 77\n",
        "tokenizer = SimpleTokenizer()\n",
        "\n",
        "def process_text(meaning):\n",
        "    tokens = tokenizer.encode(meaning)\n",
        "    tokens = tokens + [PADDING_TOKEN] * (MAX_PROMPT_LENGTH - len(tokens))\n",
        "    return np.array(tokens)\n",
        "\n",
        "#Collecting tokenized meaning into array\n",
        "tokenized_texts = np.empty((len(df), MAX_PROMPT_LENGTH))\n",
        "\n",
        "all_words = list(df[\"text\"].values)\n",
        "for i, meaning in enumerate(all_words):\n",
        "    tokenized_texts[i] = process_text(meaning)"
      ]
    },
    {
      "cell_type": "code",
      "execution_count": null,
      "metadata": {
        "id": "0IoS4M8sRK5F"
      },
      "outputs": [],
      "source": [
        "RESOLUTION = 128\n",
        "AUTO = tf.data.AUTOTUNE\n",
        "POS_IDS = tf.convert_to_tensor([list(range(MAX_PROMPT_LENGTH))], dtype=tf.int32)\n",
        "\n",
        "augmenter = keras.Sequential(\n",
        "    layers=[\n",
        "        tf.keras.layers.Rescaling(scale=1.0 / 127.5, offset=-1),\n",
        "    ]\n",
        ")\n",
        "text_encoder = TextEncoder(MAX_PROMPT_LENGTH)\n",
        "\n",
        "text_encoder = TextEncoder(MAX_PROMPT_LENGTH)\n",
        "\n",
        "def process_image(image_path, tokenized_text):\n",
        "    image = tf.io.read_file(image_path)\n",
        "    image = tf.io.decode_png(image, 3)\n",
        "    # Expand the dimensions to make it a 3D tensor\n",
        "    # Concatenate the single channel across all three channels\n",
        "    image = tf.image.resize(image, (RESOLUTION, RESOLUTION))\n",
        "    return image, tokenized_text\n",
        "\n",
        "def run_text_encoder(image_batch, token_batch):\n",
        "    return (\n",
        "        image_batch,\n",
        "        token_batch,\n",
        "        text_encoder([token_batch, POS_IDS], training=False),\n",
        "    )\n",
        "\n",
        "def apply_augmentation(image_batch, token_batch):\n",
        "    return augmenter(image_batch), token_batch\n",
        "\n",
        "def prepare_dict(image_batch, token_batch, encoded_text_batch):\n",
        "    return {\n",
        "        \"images\": image_batch,\n",
        "        \"tokens\": token_batch,\n",
        "        \"encoded_text\": encoded_text_batch,\n",
        "    }\n",
        "\n",
        "def prepare_dataset(image_paths, tokenized_texts, batch_size=1):\n",
        "    dataset = tf.data.Dataset.from_tensor_slices((image_paths, tokenized_texts))\n",
        "    dataset = dataset.shuffle(batch_size * 10)\n",
        "    dataset = dataset.map(process_image, num_parallel_calls=AUTO).batch(batch_size)\n",
        "    dataset = dataset.map(apply_augmentation, num_parallel_calls=AUTO)\n",
        "    dataset = dataset.map(run_text_encoder, num_parallel_calls=AUTO)\n",
        "    dataset = dataset.map(prepare_dict, num_parallel_calls=AUTO)\n",
        "    return dataset.prefetch(AUTO)"
      ]
    },
    {
      "cell_type": "code",
      "execution_count": null,
      "metadata": {
        "id": "1tzvDsk3TWlb"
      },
      "outputs": [],
      "source": [
        "# Prepare the dataset.\n",
        "training_dataset = prepare_dataset(\n",
        "    np.array(df[\"file_name\"]), tokenized_texts, batch_size=1\n",
        ")\n",
        "\n",
        "# Take a sample batch and investigate.\n",
        "sample_batch = next(iter(training_dataset))"
      ]
    },
    {
      "cell_type": "code",
      "execution_count": null,
      "metadata": {
        "id": "Y2ZWbpU4Tmi4",
        "colab": {
          "base_uri": "https://localhost:8080/"
        },
        "outputId": "c1456c36-533a-497f-f73f-b91e1aaba1a8"
      },
      "outputs": [
        {
          "output_type": "stream",
          "name": "stdout",
          "text": [
            "images (1, 128, 128, 3)\n",
            "tokens (1, 77)\n",
            "encoded_text (1, 77, 768)\n"
          ]
        }
      ],
      "source": [
        "for k in sample_batch:\n",
        "    print(k, sample_batch[k].shape)"
      ]
    },
    {
      "cell_type": "code",
      "source": [
        "plt.figure(figsize=(20, 10))\n",
        "\n",
        "for i in range(2):\n",
        "    ax = plt.subplot(1, 2, i + 1)\n",
        "    plt.imshow((sample_batch[\"images\"][i] + 1) / 2)\n",
        "\n",
        "    text = tokenizer.decode(sample_batch[\"tokens\"][i].numpy().squeeze())\n",
        "    text = text.replace(\"<|startoftext|>\", \"\")\n",
        "    text = text.replace(\"<|endoftext|>\", \"\")\n",
        "    text = \"\\n\".join(wrap(text, 12))\n",
        "    plt.title(text, fontsize=15)\n",
        "\n",
        "    plt.axis(\"off\")"
      ],
      "metadata": {
        "id": "g-xTR1AkjZKj"
      },
      "execution_count": null,
      "outputs": []
    },
    {
      "cell_type": "code",
      "execution_count": null,
      "metadata": {
        "id": "am41WmewUM3B"
      },
      "outputs": [],
      "source": [
        "class Trainer(tf.keras.Model):\n",
        "    # Reference:\n",
        "    # https://github.com/huggingface/diffusers/blob/main/examples/text_to_image/train_text_to_image.py\n",
        "\n",
        "    def __init__(\n",
        "        self,\n",
        "        diffusion_model,\n",
        "        vae,\n",
        "        noise_scheduler,\n",
        "        use_mixed_precision=False,\n",
        "        max_grad_norm=1.0,\n",
        "        **kwargs\n",
        "    ):\n",
        "        super().__init__(**kwargs)\n",
        "\n",
        "        self.diffusion_model = diffusion_model\n",
        "        self.vae = vae\n",
        "        self.noise_scheduler = noise_scheduler\n",
        "        self.max_grad_norm = max_grad_norm\n",
        "\n",
        "        self.use_mixed_precision = use_mixed_precision\n",
        "        self.vae.trainable = False\n",
        "\n",
        "    def train_step(self, inputs):\n",
        "        images = inputs[\"images\"]\n",
        "        encoded_text = inputs[\"encoded_text\"]\n",
        "        batch_size = tf.shape(images)[0]\n",
        "\n",
        "        with tf.GradientTape() as tape:\n",
        "            # Project image into the latent space and sample from it.\n",
        "            latents = self.sample_from_encoder_outputs(self.vae(images, training=False))\n",
        "            # Know more about the magic number here:\n",
        "            # https://keras.io/examples/generative/fine_tune_via_textual_inversion/\n",
        "            latents = latents * 0.18215\n",
        "\n",
        "            # Sample noise that we'll add to the latents.\n",
        "            noise = tf.random.normal(tf.shape(latents))\n",
        "\n",
        "            # Sample a random timestep for each image.\n",
        "            timesteps = tnp.random.randint(\n",
        "                0, self.noise_scheduler.train_timesteps, (batch_size,)\n",
        "            )\n",
        "\n",
        "            # Add noise to the latents according to the noise magnitude at each timestep\n",
        "            # (this is the forward diffusion process).\n",
        "            noisy_latents = self.noise_scheduler.add_noise(\n",
        "                tf.cast(latents, noise.dtype), noise, timesteps\n",
        "            )\n",
        "\n",
        "            # Get the target for loss depending on the prediction type\n",
        "            # just the sampled noise for now.\n",
        "            target = noise  # noise_schedule.predict_epsilon == True\n",
        "\n",
        "            # Predict the noise residual and compute loss.\n",
        "            timestep_embedding = tf.map_fn(\n",
        "                lambda t: self.get_timestep_embedding(t), timesteps, dtype=tf.float32\n",
        "            )\n",
        "            timestep_embedding = tf.squeeze(timestep_embedding, 1)\n",
        "            model_pred = self.diffusion_model(\n",
        "                [noisy_latents, timestep_embedding, encoded_text], training=True\n",
        "            )\n",
        "            loss = self.compiled_loss(target, model_pred)\n",
        "            if self.use_mixed_precision:\n",
        "                loss = self.optimizer.get_scaled_loss(loss)\n",
        "\n",
        "        # Update parameters of the diffusion model.\n",
        "        trainable_vars = self.diffusion_model.trainable_variables\n",
        "        gradients = tape.gradient(loss, trainable_vars)\n",
        "        if self.use_mixed_precision:\n",
        "            gradients = self.optimizer.get_unscaled_gradients(gradients)\n",
        "        gradients = [tf.clip_by_norm(g, self.max_grad_norm) for g in gradients]\n",
        "        self.optimizer.apply_gradients(zip(gradients, trainable_vars))\n",
        "\n",
        "        return {m.name: m.result() for m in self.metrics}\n",
        "\n",
        "    def get_timestep_embedding(self, timestep, dim=320, max_period=10000):\n",
        "        half = dim // 2\n",
        "        log_max_period = tf.math.log(tf.cast(max_period, tf.float32))\n",
        "        freqs = tf.math.exp(\n",
        "            -log_max_period * tf.range(0, half, dtype=tf.float32) / half\n",
        "        )\n",
        "        args = tf.convert_to_tensor([timestep], dtype=tf.float32) * freqs\n",
        "        embedding = tf.concat([tf.math.cos(args), tf.math.sin(args)], 0)\n",
        "        embedding = tf.reshape(embedding, [1, -1])\n",
        "        return embedding\n",
        "\n",
        "    def sample_from_encoder_outputs(self, outputs):\n",
        "        mean, logvar = tf.split(outputs, 2, axis=-1)\n",
        "        logvar = tf.clip_by_value(logvar, -30.0, 20.0)\n",
        "        std = tf.exp(0.5 * logvar)\n",
        "        sample = tf.random.normal(tf.shape(mean), dtype=mean.dtype)\n",
        "        return mean + std * sample\n",
        "\n",
        "    def save_weights(self, filepath, overwrite=True, save_format=None, options=None):\n",
        "        # Overriding this method will allow us to use the `ModelCheckpoint`\n",
        "        # callback directly with this trainer class. In this case, it will\n",
        "        # only checkpoint the `diffusion_model` since that's what we're training\n",
        "        # during fine-tuning.\n",
        "        self.diffusion_model.save_weights(\n",
        "            filepath=filepath,\n",
        "            overwrite=overwrite,\n",
        "            save_format=save_format,\n",
        "            options=options,\n",
        "        )"
      ]
    },
    {
      "cell_type": "code",
      "execution_count": null,
      "metadata": {
        "id": "Kc98H72zUWnv"
      },
      "outputs": [],
      "source": [
        "USE_MP = True\n",
        "if USE_MP:\n",
        "    keras.mixed_precision.set_global_policy(\"mixed_float16\")\n",
        "\n",
        "image_encoder = ImageEncoder()\n",
        "diffusion_ft_trainer = Trainer(\n",
        "    diffusion_model=DiffusionModel(RESOLUTION, RESOLUTION, MAX_PROMPT_LENGTH),\n",
        "    # Remove the top layer from the encoder, which cuts off the variance and only\n",
        "    # returns the mean.\n",
        "    vae=tf.keras.Model(\n",
        "        image_encoder.input,\n",
        "        image_encoder.layers[-2].output,\n",
        "    ),\n",
        "    noise_scheduler=NoiseScheduler(),\n",
        "    use_mixed_precision=USE_MP,\n",
        ")\n",
        "\n",
        "# These hyperparameters come from this tutorial by Hugging Face:\n",
        "# https://huggingface.co/docs/diffusers/training/text2image\n",
        "lr = 1e-5\n",
        "beta_1, beta_2 = 0.9, 0.999\n",
        "weight_decay = (1e-2,)\n",
        "epsilon = 1e-08\n",
        "\n",
        "optimizer = tf.keras.optimizers.experimental.AdamW(\n",
        "    learning_rate=lr,\n",
        "    weight_decay=weight_decay,\n",
        "    beta_1=beta_1,\n",
        "    beta_2=beta_2,\n",
        "    epsilon=epsilon,\n",
        ")\n",
        "diffusion_ft_trainer.compile(optimizer=optimizer, loss=\"mse\")"
      ]
    },
    {
      "cell_type": "code",
      "execution_count": null,
      "metadata": {
        "id": "QkELtUl2UZkb",
        "colab": {
          "base_uri": "https://localhost:8080/",
          "height": 567
        },
        "outputId": "5df126b8-5717-49a6-f181-5e5b6ff66d07"
      },
      "outputs": [
        {
          "output_type": "stream",
          "name": "stderr",
          "text": [
            "WARNING:tensorflow:From /usr/local/lib/python3.10/dist-packages/tensorflow/python/util/deprecation.py:660: calling map_fn_v2 (from tensorflow.python.ops.map_fn) with dtype is deprecated and will be removed in a future version.\n",
            "Instructions for updating:\n",
            "Use fn_output_signature instead\n"
          ]
        },
        {
          "output_type": "error",
          "ename": "ResourceExhaustedError",
          "evalue": "Graph execution error:\n\nDetected at node clip_by_norm_300/ArithmeticOptimizer/ReplaceMulWithSquare_mul defined at (most recent call last):\n<stack traces unavailable>\nfailed to allocate memory\n\t [[{{node clip_by_norm_300/ArithmeticOptimizer/ReplaceMulWithSquare_mul}}]]\nHint: If you want to see a list of allocated tensors when OOM happens, add report_tensor_allocations_upon_oom to RunOptions for current allocation info. This isn't available when running in Eager mode.\n [Op:__inference_train_function_245807]",
          "traceback": [
            "\u001b[0;31m---------------------------------------------------------------------------\u001b[0m",
            "\u001b[0;31mResourceExhaustedError\u001b[0m                    Traceback (most recent call last)",
            "\u001b[0;32m<ipython-input-11-892804d4566e>\u001b[0m in \u001b[0;36m<cell line: 9>\u001b[0;34m()\u001b[0m\n\u001b[1;32m      7\u001b[0m     \u001b[0mmode\u001b[0m\u001b[0;34m=\u001b[0m\u001b[0;34m\"min\"\u001b[0m\u001b[0;34m,\u001b[0m\u001b[0;34m\u001b[0m\u001b[0;34m\u001b[0m\u001b[0m\n\u001b[1;32m      8\u001b[0m )\n\u001b[0;32m----> 9\u001b[0;31m \u001b[0mdiffusion_ft_trainer\u001b[0m\u001b[0;34m.\u001b[0m\u001b[0mfit\u001b[0m\u001b[0;34m(\u001b[0m\u001b[0mtraining_dataset\u001b[0m\u001b[0;34m,\u001b[0m \u001b[0mepochs\u001b[0m\u001b[0;34m=\u001b[0m\u001b[0mepochs\u001b[0m\u001b[0;34m,\u001b[0m \u001b[0mcallbacks\u001b[0m\u001b[0;34m=\u001b[0m\u001b[0;34m[\u001b[0m\u001b[0mckpt_callback\u001b[0m\u001b[0;34m]\u001b[0m\u001b[0;34m,\u001b[0m\u001b[0mverbose\u001b[0m\u001b[0;34m=\u001b[0m\u001b[0;36m2\u001b[0m\u001b[0;34m)\u001b[0m\u001b[0;34m\u001b[0m\u001b[0;34m\u001b[0m\u001b[0m\n\u001b[0m",
            "\u001b[0;32m/usr/local/lib/python3.10/dist-packages/keras/src/utils/traceback_utils.py\u001b[0m in \u001b[0;36merror_handler\u001b[0;34m(*args, **kwargs)\u001b[0m\n\u001b[1;32m     68\u001b[0m             \u001b[0;31m# To get the full stack trace, call:\u001b[0m\u001b[0;34m\u001b[0m\u001b[0;34m\u001b[0m\u001b[0m\n\u001b[1;32m     69\u001b[0m             \u001b[0;31m# `tf.debugging.disable_traceback_filtering()`\u001b[0m\u001b[0;34m\u001b[0m\u001b[0;34m\u001b[0m\u001b[0m\n\u001b[0;32m---> 70\u001b[0;31m             \u001b[0;32mraise\u001b[0m \u001b[0me\u001b[0m\u001b[0;34m.\u001b[0m\u001b[0mwith_traceback\u001b[0m\u001b[0;34m(\u001b[0m\u001b[0mfiltered_tb\u001b[0m\u001b[0;34m)\u001b[0m \u001b[0;32mfrom\u001b[0m \u001b[0;32mNone\u001b[0m\u001b[0;34m\u001b[0m\u001b[0;34m\u001b[0m\u001b[0m\n\u001b[0m\u001b[1;32m     71\u001b[0m         \u001b[0;32mfinally\u001b[0m\u001b[0;34m:\u001b[0m\u001b[0;34m\u001b[0m\u001b[0;34m\u001b[0m\u001b[0m\n\u001b[1;32m     72\u001b[0m             \u001b[0;32mdel\u001b[0m \u001b[0mfiltered_tb\u001b[0m\u001b[0;34m\u001b[0m\u001b[0;34m\u001b[0m\u001b[0m\n",
            "\u001b[0;32m/usr/local/lib/python3.10/dist-packages/tensorflow/python/eager/execute.py\u001b[0m in \u001b[0;36mquick_execute\u001b[0;34m(op_name, num_outputs, inputs, attrs, ctx, name)\u001b[0m\n\u001b[1;32m     51\u001b[0m   \u001b[0;32mtry\u001b[0m\u001b[0;34m:\u001b[0m\u001b[0;34m\u001b[0m\u001b[0;34m\u001b[0m\u001b[0m\n\u001b[1;32m     52\u001b[0m     \u001b[0mctx\u001b[0m\u001b[0;34m.\u001b[0m\u001b[0mensure_initialized\u001b[0m\u001b[0;34m(\u001b[0m\u001b[0;34m)\u001b[0m\u001b[0;34m\u001b[0m\u001b[0;34m\u001b[0m\u001b[0m\n\u001b[0;32m---> 53\u001b[0;31m     tensors = pywrap_tfe.TFE_Py_Execute(ctx._handle, device_name, op_name,\n\u001b[0m\u001b[1;32m     54\u001b[0m                                         inputs, attrs, num_outputs)\n\u001b[1;32m     55\u001b[0m   \u001b[0;32mexcept\u001b[0m \u001b[0mcore\u001b[0m\u001b[0;34m.\u001b[0m\u001b[0m_NotOkStatusException\u001b[0m \u001b[0;32mas\u001b[0m \u001b[0me\u001b[0m\u001b[0;34m:\u001b[0m\u001b[0;34m\u001b[0m\u001b[0;34m\u001b[0m\u001b[0m\n",
            "\u001b[0;31mResourceExhaustedError\u001b[0m: Graph execution error:\n\nDetected at node clip_by_norm_300/ArithmeticOptimizer/ReplaceMulWithSquare_mul defined at (most recent call last):\n<stack traces unavailable>\nfailed to allocate memory\n\t [[{{node clip_by_norm_300/ArithmeticOptimizer/ReplaceMulWithSquare_mul}}]]\nHint: If you want to see a list of allocated tensors when OOM happens, add report_tensor_allocations_upon_oom to RunOptions for current allocation info. This isn't available when running in Eager mode.\n [Op:__inference_train_function_245807]"
          ]
        }
      ],
      "source": [
        "epochs = 1\n",
        "ckpt_path = \"finetuned_stable_diffusion.h5\"\n",
        "ckpt_callback = tf.keras.callbacks.ModelCheckpoint(\n",
        "    ckpt_path,\n",
        "    save_weights_only=True,\n",
        "    monitor=\"loss\",\n",
        "    mode=\"min\",\n",
        ")\n",
        "diffusion_ft_trainer.fit(training_dataset, epochs=epochs, callbacks=[ckpt_callback],verbose=2)"
      ]
    },
    {
      "cell_type": "code",
      "source": [
        "weights_path = tf.keras.utils.get_file(\n",
        "    origin=\"https://huggingface.co/sayakpaul/kerascv_sd_pokemon_finetuned/resolve/main/ckpt_epochs_72_res_512_mp_True.h5\"\n",
        ")\n",
        "\n",
        "img_height = img_width = 256\n",
        "pokemon_model = keras_cv.models.StableDiffusion(\n",
        "    img_width=img_width, img_height=img_height\n",
        ")\n",
        "# We just reload the weights of the fine-tuned diffusion model.\n",
        "pokemon_model.diffusion_model.load_weights(weights_path)"
      ],
      "metadata": {
        "id": "RMWZ5FAIcInk"
      },
      "execution_count": null,
      "outputs": []
    },
    {
      "cell_type": "code",
      "execution_count": null,
      "metadata": {
        "id": "5se9rCvpndD0"
      },
      "outputs": [],
      "source": [
        "prompts = [\"Yoda\", \"Hello Kitty\", \"Himalaya\"]\n",
        "images_to_generate = 1\n",
        "outputs = {}\n",
        "\n",
        "for prompt in prompts:\n",
        "    generated_images = pokemon_model.text_to_image(\n",
        "        prompt, batch_size=images_to_generate, unconditional_guidance_scale=40\n",
        "    )\n",
        "    outputs.update({prompt: generated_images})"
      ]
    }
  ],
  "metadata": {
    "colab": {
      "provenance": [],
      "gpuType": "T4",
      "mount_file_id": "18KC7IkkRmphCFfTbhIpVEla_m17ZykGw",
      "authorship_tag": "ABX9TyOZ42MyhflZ160nMjgWHCcC",
      "include_colab_link": true
    },
    "kernelspec": {
      "display_name": "Python 3",
      "name": "python3"
    },
    "language_info": {
      "name": "python"
    },
    "accelerator": "GPU"
  },
  "nbformat": 4,
  "nbformat_minor": 0
}